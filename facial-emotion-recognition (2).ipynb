{
 "cells": [
  {
   "cell_type": "code",
   "execution_count": 1,
   "id": "5e50fdb8",
   "metadata": {
    "_cell_guid": "b1076dfc-b9ad-4769-8c92-a6c4dae69d19",
    "_uuid": "8f2839f25d086af736a60e9eeb907d3b93b6e0e5",
    "execution": {
     "iopub.execute_input": "2024-01-23T16:12:44.890970Z",
     "iopub.status.busy": "2024-01-23T16:12:44.890519Z",
     "iopub.status.idle": "2024-01-23T16:14:05.041201Z",
     "shell.execute_reply": "2024-01-23T16:14:05.039645Z"
    },
    "papermill": {
     "duration": 80.163032,
     "end_time": "2024-01-23T16:14:05.043988",
     "exception": false,
     "start_time": "2024-01-23T16:12:44.880956",
     "status": "completed"
    },
    "tags": []
   },
   "outputs": [
    {
     "name": "stdout",
     "output_type": "stream",
     "text": [
      "There are 1 directories and 0 images in '/kaggle/input/face-expression-recognition-dataset'.\n",
      "There are 3 directories and 0 images in '/kaggle/input/face-expression-recognition-dataset/images'.\n",
      "There are 7 directories and 0 images in '/kaggle/input/face-expression-recognition-dataset/images/validation'.\n",
      "There are 0 directories and 797 images in '/kaggle/input/face-expression-recognition-dataset/images/validation/surprise'.\n",
      "There are 0 directories and 1018 images in '/kaggle/input/face-expression-recognition-dataset/images/validation/fear'.\n",
      "There are 0 directories and 960 images in '/kaggle/input/face-expression-recognition-dataset/images/validation/angry'.\n",
      "There are 0 directories and 1216 images in '/kaggle/input/face-expression-recognition-dataset/images/validation/neutral'.\n",
      "There are 0 directories and 1139 images in '/kaggle/input/face-expression-recognition-dataset/images/validation/sad'.\n",
      "There are 0 directories and 111 images in '/kaggle/input/face-expression-recognition-dataset/images/validation/disgust'.\n",
      "There are 0 directories and 1825 images in '/kaggle/input/face-expression-recognition-dataset/images/validation/happy'.\n",
      "There are 2 directories and 0 images in '/kaggle/input/face-expression-recognition-dataset/images/images'.\n",
      "There are 7 directories and 0 images in '/kaggle/input/face-expression-recognition-dataset/images/images/validation'.\n",
      "There are 0 directories and 797 images in '/kaggle/input/face-expression-recognition-dataset/images/images/validation/surprise'.\n",
      "There are 0 directories and 1018 images in '/kaggle/input/face-expression-recognition-dataset/images/images/validation/fear'.\n",
      "There are 0 directories and 960 images in '/kaggle/input/face-expression-recognition-dataset/images/images/validation/angry'.\n",
      "There are 0 directories and 1216 images in '/kaggle/input/face-expression-recognition-dataset/images/images/validation/neutral'.\n",
      "There are 0 directories and 1139 images in '/kaggle/input/face-expression-recognition-dataset/images/images/validation/sad'.\n",
      "There are 0 directories and 111 images in '/kaggle/input/face-expression-recognition-dataset/images/images/validation/disgust'.\n",
      "There are 0 directories and 1825 images in '/kaggle/input/face-expression-recognition-dataset/images/images/validation/happy'.\n",
      "There are 7 directories and 0 images in '/kaggle/input/face-expression-recognition-dataset/images/images/train'.\n",
      "There are 0 directories and 3205 images in '/kaggle/input/face-expression-recognition-dataset/images/images/train/surprise'.\n",
      "There are 0 directories and 4103 images in '/kaggle/input/face-expression-recognition-dataset/images/images/train/fear'.\n",
      "There are 0 directories and 3993 images in '/kaggle/input/face-expression-recognition-dataset/images/images/train/angry'.\n",
      "There are 0 directories and 4982 images in '/kaggle/input/face-expression-recognition-dataset/images/images/train/neutral'.\n",
      "There are 0 directories and 4938 images in '/kaggle/input/face-expression-recognition-dataset/images/images/train/sad'.\n",
      "There are 0 directories and 436 images in '/kaggle/input/face-expression-recognition-dataset/images/images/train/disgust'.\n",
      "There are 0 directories and 7164 images in '/kaggle/input/face-expression-recognition-dataset/images/images/train/happy'.\n",
      "There are 7 directories and 0 images in '/kaggle/input/face-expression-recognition-dataset/images/train'.\n",
      "There are 0 directories and 3205 images in '/kaggle/input/face-expression-recognition-dataset/images/train/surprise'.\n",
      "There are 0 directories and 4103 images in '/kaggle/input/face-expression-recognition-dataset/images/train/fear'.\n",
      "There are 0 directories and 3993 images in '/kaggle/input/face-expression-recognition-dataset/images/train/angry'.\n",
      "There are 0 directories and 4982 images in '/kaggle/input/face-expression-recognition-dataset/images/train/neutral'.\n",
      "There are 0 directories and 4938 images in '/kaggle/input/face-expression-recognition-dataset/images/train/sad'.\n",
      "There are 0 directories and 436 images in '/kaggle/input/face-expression-recognition-dataset/images/train/disgust'.\n",
      "There are 0 directories and 7164 images in '/kaggle/input/face-expression-recognition-dataset/images/train/happy'.\n"
     ]
    }
   ],
   "source": [
    "import numpy as np \n",
    "import pandas as pd \n",
    "import os\n",
    "\n",
    "path=\"/kaggle/input/face-expression-recognition-dataset\"\n",
    "\n",
    "for dirpath, dirnames, filenames in os.walk(\"/kaggle/input/face-expression-recognition-dataset\"):\n",
    "  print(f\"There are {len(dirnames)} directories and {len(filenames)} images in '{dirpath}'.\")"
   ]
  },
  {
   "cell_type": "markdown",
   "id": "d4b7e28d",
   "metadata": {
    "papermill": {
     "duration": 0.007275,
     "end_time": "2024-01-23T16:14:05.059518",
     "exception": false,
     "start_time": "2024-01-23T16:14:05.052243",
     "status": "completed"
    },
    "tags": []
   },
   "source": [
    "validation dataset :\n",
    "surprise 797\n",
    "fear 1018\n",
    "angry 960\n",
    "neutral 1216\n",
    "sad 1139\n",
    "disgust 111\n",
    "happy 1825\n",
    "\n",
    "train dataset :\n",
    "surprise 3205\n",
    "fear 4103\n",
    "angry 3993\n",
    "neutral 4982\n",
    "sad 4938\n",
    "disgust 436\n",
    "happy 7164"
   ]
  },
  {
   "cell_type": "code",
   "execution_count": 2,
   "id": "3ec98079",
   "metadata": {
    "execution": {
     "iopub.execute_input": "2024-01-23T16:14:05.077485Z",
     "iopub.status.busy": "2024-01-23T16:14:05.076435Z",
     "iopub.status.idle": "2024-01-23T16:14:20.170496Z",
     "shell.execute_reply": "2024-01-23T16:14:20.169284Z"
    },
    "papermill": {
     "duration": 15.106051,
     "end_time": "2024-01-23T16:14:20.173196",
     "exception": false,
     "start_time": "2024-01-23T16:14:05.067145",
     "status": "completed"
    },
    "tags": []
   },
   "outputs": [],
   "source": [
    "from keras.preprocessing.image import ImageDataGenerator\n",
    "from keras.models import Sequential\n",
    "from keras.layers import Dense,Dropout,Flatten\n",
    "from keras.layers import Conv2D,MaxPooling2D,BatchNormalization,Activation\n",
    "from keras.optimizers import Adam\n",
    "from keras.callbacks import ModelCheckpoint, EarlyStopping, ReduceLROnPlateau\n",
    "from matplotlib import pyplot as plt"
   ]
  },
  {
   "cell_type": "code",
   "execution_count": 3,
   "id": "b3d7eb33",
   "metadata": {
    "execution": {
     "iopub.execute_input": "2024-01-23T16:14:20.194906Z",
     "iopub.status.busy": "2024-01-23T16:14:20.192841Z",
     "iopub.status.idle": "2024-01-23T16:14:20.200695Z",
     "shell.execute_reply": "2024-01-23T16:14:20.199062Z"
    },
    "papermill": {
     "duration": 0.021729,
     "end_time": "2024-01-23T16:14:20.202979",
     "exception": false,
     "start_time": "2024-01-23T16:14:20.181250",
     "status": "completed"
    },
    "tags": []
   },
   "outputs": [],
   "source": [
    "train_data_dir='/kaggle/input/face-expression-recognition-dataset/images/train'\n",
    "validation_data_dir='/kaggle/input/face-expression-recognition-dataset/images/images/validation'"
   ]
  },
  {
   "cell_type": "code",
   "execution_count": 4,
   "id": "c5f72f62",
   "metadata": {
    "execution": {
     "iopub.execute_input": "2024-01-23T16:14:20.220950Z",
     "iopub.status.busy": "2024-01-23T16:14:20.220480Z",
     "iopub.status.idle": "2024-01-23T16:14:20.225754Z",
     "shell.execute_reply": "2024-01-23T16:14:20.224644Z"
    },
    "papermill": {
     "duration": 0.016748,
     "end_time": "2024-01-23T16:14:20.227868",
     "exception": false,
     "start_time": "2024-01-23T16:14:20.211120",
     "status": "completed"
    },
    "tags": []
   },
   "outputs": [],
   "source": [
    "#for train data set\n",
    "train_datagen = ImageDataGenerator(\n",
    "     rescale=1./255,\n",
    "     rotation_range=30,\n",
    "     shear_range=0.3,\n",
    "     zoom_range=0.3,\n",
    "     horizontal_flip=True,\n",
    "     fill_mode='nearest')"
   ]
  },
  {
   "cell_type": "code",
   "execution_count": 5,
   "id": "bd9689ed",
   "metadata": {
    "execution": {
     "iopub.execute_input": "2024-01-23T16:14:20.245867Z",
     "iopub.status.busy": "2024-01-23T16:14:20.245025Z",
     "iopub.status.idle": "2024-01-23T16:14:20.250048Z",
     "shell.execute_reply": "2024-01-23T16:14:20.248857Z"
    },
    "papermill": {
     "duration": 0.016936,
     "end_time": "2024-01-23T16:14:20.252531",
     "exception": false,
     "start_time": "2024-01-23T16:14:20.235595",
     "status": "completed"
    },
    "tags": []
   },
   "outputs": [],
   "source": [
    "#for validation dataset\n",
    "validation_datagen = ImageDataGenerator(rescale=1./255)"
   ]
  },
  {
   "cell_type": "code",
   "execution_count": 6,
   "id": "e87f868b",
   "metadata": {
    "execution": {
     "iopub.execute_input": "2024-01-23T16:14:20.270548Z",
     "iopub.status.busy": "2024-01-23T16:14:20.270039Z",
     "iopub.status.idle": "2024-01-23T16:14:20.275323Z",
     "shell.execute_reply": "2024-01-23T16:14:20.274106Z"
    },
    "papermill": {
     "duration": 0.017338,
     "end_time": "2024-01-23T16:14:20.277502",
     "exception": false,
     "start_time": "2024-01-23T16:14:20.260164",
     "status": "completed"
    },
    "tags": []
   },
   "outputs": [],
   "source": [
    "#image height\n",
    "IMG_HEIGHT=48\n",
    "#image width \n",
    "IMG_WIDTH = 48\n",
    "#batch size\n",
    "batch_size=32\n",
    "seed = 42"
   ]
  },
  {
   "cell_type": "code",
   "execution_count": 7,
   "id": "db3affc2",
   "metadata": {
    "execution": {
     "iopub.execute_input": "2024-01-23T16:14:20.295046Z",
     "iopub.status.busy": "2024-01-23T16:14:20.294558Z",
     "iopub.status.idle": "2024-01-23T16:14:25.015340Z",
     "shell.execute_reply": "2024-01-23T16:14:25.014046Z"
    },
    "papermill": {
     "duration": 4.733246,
     "end_time": "2024-01-23T16:14:25.018524",
     "exception": false,
     "start_time": "2024-01-23T16:14:20.285278",
     "status": "completed"
    },
    "tags": []
   },
   "outputs": [
    {
     "name": "stdout",
     "output_type": "stream",
     "text": [
      "Found 28821 images belonging to 7 classes.\n"
     ]
    }
   ],
   "source": [
    "# create training sets\n",
    "train_generator = train_datagen.flow_from_directory(\n",
    "     train_data_dir,\n",
    "     color_mode='grayscale',\n",
    "     target_size=(IMG_HEIGHT, IMG_WIDTH),\n",
    "     batch_size=batch_size,\n",
    "     class_mode='categorical',\n",
    "     shuffle=True,\n",
    "     seed=seed)"
   ]
  },
  {
   "cell_type": "code",
   "execution_count": 8,
   "id": "37898d18",
   "metadata": {
    "execution": {
     "iopub.execute_input": "2024-01-23T16:14:25.037813Z",
     "iopub.status.busy": "2024-01-23T16:14:25.037282Z",
     "iopub.status.idle": "2024-01-23T16:14:25.567989Z",
     "shell.execute_reply": "2024-01-23T16:14:25.566912Z"
    },
    "papermill": {
     "duration": 0.543381,
     "end_time": "2024-01-23T16:14:25.570854",
     "exception": false,
     "start_time": "2024-01-23T16:14:25.027473",
     "status": "completed"
    },
    "tags": []
   },
   "outputs": [
    {
     "name": "stdout",
     "output_type": "stream",
     "text": [
      "Found 7066 images belonging to 7 classes.\n"
     ]
    }
   ],
   "source": [
    "#create Validation sets\n",
    "validation_generator = validation_datagen.flow_from_directory(\n",
    "       validation_data_dir,\n",
    "       color_mode='grayscale',\n",
    "       target_size=(IMG_HEIGHT, IMG_WIDTH),\n",
    "       batch_size=batch_size,\n",
    "       class_mode='categorical',\n",
    "       shuffle=True,\n",
    "       seed=seed)"
   ]
  },
  {
   "cell_type": "code",
   "execution_count": 9,
   "id": "255f465a",
   "metadata": {
    "execution": {
     "iopub.execute_input": "2024-01-23T16:14:25.589730Z",
     "iopub.status.busy": "2024-01-23T16:14:25.589101Z",
     "iopub.status.idle": "2024-01-23T16:14:25.595496Z",
     "shell.execute_reply": "2024-01-23T16:14:25.594583Z"
    },
    "papermill": {
     "duration": 0.019748,
     "end_time": "2024-01-23T16:14:25.598608",
     "exception": false,
     "start_time": "2024-01-23T16:14:25.578860",
     "status": "completed"
    },
    "tags": []
   },
   "outputs": [],
   "source": [
    "#emotions list\n",
    "class_labels=['angry','disgust', 'fear', 'happy','neutral','sad','surprise']"
   ]
  },
  {
   "cell_type": "code",
   "execution_count": 10,
   "id": "1550cc57",
   "metadata": {
    "execution": {
     "iopub.execute_input": "2024-01-23T16:14:25.617174Z",
     "iopub.status.busy": "2024-01-23T16:14:25.616267Z",
     "iopub.status.idle": "2024-01-23T16:14:25.907414Z",
     "shell.execute_reply": "2024-01-23T16:14:25.905948Z"
    },
    "papermill": {
     "duration": 0.303426,
     "end_time": "2024-01-23T16:14:25.910410",
     "exception": false,
     "start_time": "2024-01-23T16:14:25.606984",
     "status": "completed"
    },
    "tags": []
   },
   "outputs": [],
   "source": [
    "img, label = train_generator.__next__()"
   ]
  },
  {
   "cell_type": "code",
   "execution_count": 11,
   "id": "55ab82e8",
   "metadata": {
    "execution": {
     "iopub.execute_input": "2024-01-23T16:14:25.929741Z",
     "iopub.status.busy": "2024-01-23T16:14:25.929235Z",
     "iopub.status.idle": "2024-01-23T16:14:26.213983Z",
     "shell.execute_reply": "2024-01-23T16:14:26.212737Z"
    },
    "papermill": {
     "duration": 0.298067,
     "end_time": "2024-01-23T16:14:26.216645",
     "exception": false,
     "start_time": "2024-01-23T16:14:25.918578",
     "status": "completed"
    },
    "tags": []
   },
   "outputs": [
    {
     "data": {
      "image/png": "[encoded data removed]",
      "text/plain": [
       "<Figure size 640x480 with 1 Axes>"
      ]
     },
     "metadata": {},
     "output_type": "display_data"
    }
   ],
   "source": [
    "#import random module\n",
    "import random\n",
    "\n",
    "#create a number \n",
    "i=random.randint(0, (img.shape[0])-1)\n",
    "#get image\n",
    "image = img[i]\n",
    "#get image label\n",
    "labl = class_labels[label[i].argmax()]\n",
    "\n",
    "#ploting\n",
    "plt.imshow(image[:,:,0], cmap='gray')\n",
    "plt.title(labl)\n",
    "plt.show()"
   ]
  },
  {
   "cell_type": "code",
   "execution_count": 12,
   "id": "441c9a24",
   "metadata": {
    "execution": {
     "iopub.execute_input": "2024-01-23T16:14:26.236663Z",
     "iopub.status.busy": "2024-01-23T16:14:26.235317Z",
     "iopub.status.idle": "2024-01-23T16:14:26.804689Z",
     "shell.execute_reply": "2024-01-23T16:14:26.803290Z"
    },
    "papermill": {
     "duration": 0.582341,
     "end_time": "2024-01-23T16:14:26.807556",
     "exception": false,
     "start_time": "2024-01-23T16:14:26.225215",
     "status": "completed"
    },
    "tags": []
   },
   "outputs": [],
   "source": [
    "model = Sequential()\n",
    "\n",
    "#1st CNN layer\n",
    "model.add(Conv2D(64,(3,3),padding = 'same',input_shape = (48,48,1)))\n",
    "model.add(BatchNormalization())\n",
    "model.add(Activation('relu'))\n",
    "model.add(MaxPooling2D(pool_size = (2,2)))\n",
    "model.add(Dropout(0.25))\n",
    "\n",
    "#2nd CNN layer\n",
    "model.add(Conv2D(128,(5,5),padding = 'same'))\n",
    "model.add(BatchNormalization())\n",
    "model.add(Activation('relu'))\n",
    "model.add(MaxPooling2D(pool_size = (2,2)))\n",
    "model.add(Dropout (0.25))\n",
    "\n",
    "#3rd CNN layer\n",
    "model.add(Conv2D(512,(3,3),padding = 'same'))\n",
    "model.add(BatchNormalization())\n",
    "model.add(Activation('relu'))\n",
    "model.add(MaxPooling2D(pool_size = (2,2)))\n",
    "model.add(Dropout (0.25))\n",
    "\n",
    "#4th CNN layer\n",
    "model.add(Conv2D(512,(3,3), padding='same'))\n",
    "model.add(BatchNormalization())\n",
    "model.add(Activation('relu'))\n",
    "model.add(MaxPooling2D(pool_size=(2, 2)))\n",
    "model.add(Dropout(0.25))\n",
    "\n",
    "model.add(Flatten())\n",
    "\n",
    "#Fully connected 1st layer\n",
    "model.add(Dense(256))\n",
    "model.add(BatchNormalization())\n",
    "model.add(Activation('relu'))\n",
    "model.add(Dropout(0.25))\n",
    "\n",
    "\n",
    "# Fully connected layer 2nd layer\n",
    "model.add(Dense(512))\n",
    "model.add(BatchNormalization())\n",
    "model.add(Activation('relu'))\n",
    "model.add(Dropout(0.25))\n",
    "\n",
    "\n",
    "model.add(Dense(7, activation='softmax'))"
   ]
  },
  {
   "cell_type": "code",
   "execution_count": 13,
   "id": "29171ba5",
   "metadata": {
    "execution": {
     "iopub.execute_input": "2024-01-23T16:14:26.827195Z",
     "iopub.status.busy": "2024-01-23T16:14:26.826631Z",
     "iopub.status.idle": "2024-01-23T16:14:26.911110Z",
     "shell.execute_reply": "2024-01-23T16:14:26.909756Z"
    },
    "papermill": {
     "duration": 0.120579,
     "end_time": "2024-01-23T16:14:26.936717",
     "exception": false,
     "start_time": "2024-01-23T16:14:26.816138",
     "status": "completed"
    },
    "tags": []
   },
   "outputs": [
    {
     "name": "stdout",
     "output_type": "stream",
     "text": [
      "Model: \"sequential\"\n",
      "_________________________________________________________________\n",
      " Layer (type)                Output Shape              Param #   \n",
      "=================================================================\n",
      " conv2d (Conv2D)             (None, 48, 48, 64)        640       \n",
      "                                                                 \n",
      " batch_normalization (Batch  (None, 48, 48, 64)        256       \n",
      " Normalization)                                                  \n",
      "                                                                 \n",
      " activation (Activation)     (None, 48, 48, 64)        0         \n",
      "                                                                 \n",
      " max_pooling2d (MaxPooling2  (None, 24, 24, 64)        0         \n",
      " D)                                                              \n",
      "                                                                 \n",
      " dropout (Dropout)           (None, 24, 24, 64)        0         \n",
      "                                                                 \n",
      " conv2d_1 (Conv2D)           (None, 24, 24, 128)       204928    \n",
      "                                                                 \n",
      " batch_normalization_1 (Bat  (None, 24, 24, 128)       512       \n",
      " chNormalization)                                                \n",
      "                                                                 \n",
      " activation_1 (Activation)   (None, 24, 24, 128)       0         \n",
      "                                                                 \n",
      " max_pooling2d_1 (MaxPoolin  (None, 12, 12, 128)       0         \n",
      " g2D)                                                            \n",
      "                                                                 \n",
      " dropout_1 (Dropout)         (None, 12, 12, 128)       0         \n",
      "                                                                 \n",
      " conv2d_2 (Conv2D)           (None, 12, 12, 512)       590336    \n",
      "                                                                 \n",
      " batch_normalization_2 (Bat  (None, 12, 12, 512)       2048      \n",
      " chNormalization)                                                \n",
      "                                                                 \n",
      " activation_2 (Activation)   (None, 12, 12, 512)       0         \n",
      "                                                                 \n",
      " max_pooling2d_2 (MaxPoolin  (None, 6, 6, 512)         0         \n",
      " g2D)                                                            \n",
      "                                                                 \n",
      " dropout_2 (Dropout)         (None, 6, 6, 512)         0         \n",
      "                                                                 \n",
      " conv2d_3 (Conv2D)           (None, 6, 6, 512)         2359808   \n",
      "                                                                 \n",
      " batch_normalization_3 (Bat  (None, 6, 6, 512)         2048      \n",
      " chNormalization)                                                \n",
      "                                                                 \n",
      " activation_3 (Activation)   (None, 6, 6, 512)         0         \n",
      "                                                                 \n",
      " max_pooling2d_3 (MaxPoolin  (None, 3, 3, 512)         0         \n",
      " g2D)                                                            \n",
      "                                                                 \n",
      " dropout_3 (Dropout)         (None, 3, 3, 512)         0         \n",
      "                                                                 \n",
      " flatten (Flatten)           (None, 4608)              0         \n",
      "                                                                 \n",
      " dense (Dense)               (None, 256)               1179904   \n",
      "                                                                 \n",
      " batch_normalization_4 (Bat  (None, 256)               1024      \n",
      " chNormalization)                                                \n",
      "                                                                 \n",
      " activation_4 (Activation)   (None, 256)               0         \n",
      "                                                                 \n",
      " dropout_4 (Dropout)         (None, 256)               0         \n",
      "                                                                 \n",
      " dense_1 (Dense)             (None, 512)               131584    \n",
      "                                                                 \n",
      " batch_normalization_5 (Bat  (None, 512)               2048      \n",
      " chNormalization)                                                \n",
      "                                                                 \n",
      " activation_5 (Activation)   (None, 512)               0         \n",
      "                                                                 \n",
      " dropout_5 (Dropout)         (None, 512)               0         \n",
      "                                                                 \n",
      " dense_2 (Dense)             (None, 7)                 3591      \n",
      "                                                                 \n",
      "=================================================================\n",
      "Total params: 4478727 (17.08 MB)\n",
      "Trainable params: 4474759 (17.07 MB)\n",
      "Non-trainable params: 3968 (15.50 KB)\n",
      "_________________________________________________________________\n"
     ]
    }
   ],
   "source": [
    "#get model summary\n",
    "model.summary()"
   ]
  },
  {
   "cell_type": "code",
   "execution_count": 14,
   "id": "84a640f1",
   "metadata": {
    "execution": {
     "iopub.execute_input": "2024-01-23T16:14:26.964740Z",
     "iopub.status.busy": "2024-01-23T16:14:26.964212Z",
     "iopub.status.idle": "2024-01-23T16:14:26.988895Z",
     "shell.execute_reply": "2024-01-23T16:14:26.987678Z"
    },
    "papermill": {
     "duration": 0.041905,
     "end_time": "2024-01-23T16:14:26.991599",
     "exception": false,
     "start_time": "2024-01-23T16:14:26.949694",
     "status": "completed"
    },
    "tags": []
   },
   "outputs": [],
   "source": [
    "#compile the model\n",
    "model.compile(optimizer = Adam(lr=0.001), loss='categorical_crossentropy', metrics=['accuracy'])"
   ]
  },
  {
   "cell_type": "code",
   "execution_count": 15,
   "id": "de9c4a08",
   "metadata": {
    "execution": {
     "iopub.execute_input": "2024-01-23T16:14:27.020283Z",
     "iopub.status.busy": "2024-01-23T16:14:27.019528Z",
     "iopub.status.idle": "2024-01-23T16:14:27.027894Z",
     "shell.execute_reply": "2024-01-23T16:14:27.026642Z"
    },
    "papermill": {
     "duration": 0.025706,
     "end_time": "2024-01-23T16:14:27.030602",
     "exception": false,
     "start_time": "2024-01-23T16:14:27.004896",
     "status": "completed"
    },
    "tags": []
   },
   "outputs": [],
   "source": [
    "# determine early stoping mechanism\n",
    "early_stopping = EarlyStopping(monitor='val_loss',\n",
    "                          min_delta=0,\n",
    "                          patience=3,\n",
    "                          verbose=1,\n",
    "                          restore_best_weights=True\n",
    "                          )\n",
    "\n",
    "# Instantiate ModelCheckpoint callback\n",
    "checkpoint = ModelCheckpoint(filepath='best_model.h5',\n",
    "                             monitor='val_loss',\n",
    "                             save_best_only=True,\n",
    "                             save_weights_only=False,\n",
    "                             mode='min',\n",
    "                             verbose=1)\n",
    "\n",
    "# reduce learning rate mechanism\n",
    "reduce_learningrate = ReduceLROnPlateau(monitor='val_loss',\n",
    "                              factor=0.2,\n",
    "                              patience=3,\n",
    "                              verbose=1,\n",
    "                              min_delta=0.0001)\n",
    "\n",
    "# make callback as a list\n",
    "callbacks_list = [early_stopping,checkpoint,reduce_learningrate]"
   ]
  },
  {
   "cell_type": "code",
   "execution_count": 16,
   "id": "dc41f35d",
   "metadata": {
    "execution": {
     "iopub.execute_input": "2024-01-23T16:14:27.061937Z",
     "iopub.status.busy": "2024-01-23T16:14:27.061436Z",
     "iopub.status.idle": "2024-01-23T18:07:29.054702Z",
     "shell.execute_reply": "2024-01-23T18:07:29.053469Z"
    },
    "papermill": {
     "duration": 6782.591029,
     "end_time": "2024-01-23T18:07:29.635974",
     "exception": false,
     "start_time": "2024-01-23T16:14:27.044945",
     "status": "completed"
    },
    "tags": []
   },
   "outputs": [
    {
     "name": "stdout",
     "output_type": "stream",
     "text": [
      "Epoch 1/50\n",
      "900/900 [==============================] - ETA: 0s - loss: 1.8818 - accuracy: 0.2505\n",
      "Epoch 1: val_loss improved from inf to 1.78210, saving model to best_model.h5\n",
      "900/900 [==============================] - 704s 778ms/step - loss: 1.8818 - accuracy: 0.2505 - val_loss: 1.7821 - val_accuracy: 0.2952 - lr: 0.0010\n",
      "Epoch 2/50\n"
     ]
    },
    {
     "name": "stderr",
     "output_type": "stream",
     "text": [
      "/opt/conda/lib/python3.10/site-packages/keras/src/engine/training.py:3000: UserWarning: You are saving your model as an HDF5 file via `model.save()`. This file format is considered legacy. We recommend using instead the native Keras format, e.g. `model.save('my_model.keras')`.\n",
      "  saving_api.save_model(\n"
     ]
    },
    {
     "name": "stdout",
     "output_type": "stream",
     "text": [
      "900/900 [==============================] - ETA: 0s - loss: 1.6371 - accuracy: 0.3563\n",
      "Epoch 2: val_loss improved from 1.78210 to 1.53984, saving model to best_model.h5\n",
      "900/900 [==============================] - 675s 750ms/step - loss: 1.6371 - accuracy: 0.3563 - val_loss: 1.5398 - val_accuracy: 0.3947 - lr: 0.0010\n",
      "Epoch 3/50\n",
      "900/900 [==============================] - ETA: 0s - loss: 1.4907 - accuracy: 0.4220\n",
      "Epoch 3: val_loss improved from 1.53984 to 1.50527, saving model to best_model.h5\n",
      "900/900 [==============================] - 670s 744ms/step - loss: 1.4907 - accuracy: 0.4220 - val_loss: 1.5053 - val_accuracy: 0.4187 - lr: 0.0010\n",
      "Epoch 4/50\n",
      "900/900 [==============================] - ETA: 0s - loss: 1.4115 - accuracy: 0.4558\n",
      "Epoch 4: val_loss improved from 1.50527 to 1.32903, saving model to best_model.h5\n",
      "900/900 [==============================] - 664s 737ms/step - loss: 1.4115 - accuracy: 0.4558 - val_loss: 1.3290 - val_accuracy: 0.4888 - lr: 0.0010\n",
      "Epoch 5/50\n",
      "900/900 [==============================] - ETA: 0s - loss: 1.3575 - accuracy: 0.4795\n",
      "Epoch 5: val_loss did not improve from 1.32903\n",
      "900/900 [==============================] - 645s 717ms/step - loss: 1.3575 - accuracy: 0.4795 - val_loss: 1.3868 - val_accuracy: 0.4568 - lr: 0.0010\n",
      "Epoch 6/50\n",
      "900/900 [==============================] - ETA: 0s - loss: 1.3288 - accuracy: 0.4908\n",
      "Epoch 6: val_loss improved from 1.32903 to 1.23381, saving model to best_model.h5\n",
      "900/900 [==============================] - 640s 711ms/step - loss: 1.3288 - accuracy: 0.4908 - val_loss: 1.2338 - val_accuracy: 0.5277 - lr: 0.0010\n",
      "Epoch 7/50\n",
      "900/900 [==============================] - ETA: 0s - loss: 1.2931 - accuracy: 0.5038\n",
      "Epoch 7: val_loss improved from 1.23381 to 1.18479, saving model to best_model.h5\n",
      "900/900 [==============================] - 646s 718ms/step - loss: 1.2931 - accuracy: 0.5038 - val_loss: 1.1848 - val_accuracy: 0.5560 - lr: 0.0010\n",
      "Epoch 8/50\n",
      "900/900 [==============================] - ETA: 0s - loss: 1.2719 - accuracy: 0.5157\n",
      "Epoch 8: val_loss did not improve from 1.18479\n",
      "900/900 [==============================] - 681s 756ms/step - loss: 1.2719 - accuracy: 0.5157 - val_loss: 1.3308 - val_accuracy: 0.4884 - lr: 0.0010\n",
      "Epoch 9/50\n",
      "900/900 [==============================] - ETA: 0s - loss: 1.2438 - accuracy: 0.5310\n",
      "Epoch 9: val_loss did not improve from 1.18479\n",
      "900/900 [==============================] - 705s 783ms/step - loss: 1.2438 - accuracy: 0.5310 - val_loss: 1.2785 - val_accuracy: 0.4864 - lr: 0.0010\n",
      "Epoch 10/50\n",
      "900/900 [==============================] - ETA: 0s - loss: 1.2296 - accuracy: 0.5307Restoring model weights from the end of the best epoch: 7.\n",
      "\n",
      "Epoch 10: val_loss did not improve from 1.18479\n",
      "\n",
      "Epoch 10: ReduceLROnPlateau reducing learning rate to 0.00020000000949949026.\n",
      "900/900 [==============================] - 673s 747ms/step - loss: 1.2296 - accuracy: 0.5307 - val_loss: 1.2741 - val_accuracy: 0.5180 - lr: 0.0010\n",
      "Epoch 10: early stopping\n"
     ]
    }
   ],
   "source": [
    "#epoch size\n",
    "epochs=50\n",
    "num_train_imgs=28821\n",
    "num_test_imgs=7066\n",
    "\n",
    "# fit model\n",
    "history=model.fit(train_generator,\n",
    "                steps_per_epoch=num_train_imgs//train_generator.batch_size,\n",
    "                epochs=epochs,\n",
    "                validation_data=validation_generator,\n",
    "                validation_steps=num_test_imgs//validation_generator.batch_size,\n",
    "                callbacks=callbacks_list)"
   ]
  },
  {
   "cell_type": "code",
   "execution_count": 17,
   "id": "1282ca0f",
   "metadata": {
    "execution": {
     "iopub.execute_input": "2024-01-23T18:07:30.918365Z",
     "iopub.status.busy": "2024-01-23T18:07:30.917897Z",
     "iopub.status.idle": "2024-01-23T18:07:31.522861Z",
     "shell.execute_reply": "2024-01-23T18:07:31.521529Z"
    },
    "papermill": {
     "duration": 1.268896,
     "end_time": "2024-01-23T18:07:31.527348",
     "exception": false,
     "start_time": "2024-01-23T18:07:30.258452",
     "status": "completed"
    },
    "tags": []
   },
   "outputs": [
    {
     "data": {
      "image/png": "[encoded data removed]",
      "text/plain": [
       "<Figure size 2000x1000 with 2 Axes>"
      ]
     },
     "metadata": {},
     "output_type": "display_data"
    }
   ],
   "source": [
    "#figure size\n",
    "plt.figure(figsize=(20,10))\n",
    "#make subplot\n",
    "plt.subplot(1, 2, 1)\n",
    "plt.suptitle('Optimizer : Adam', fontsize=10)\n",
    "plt.ylabel('Loss', fontsize=16)\n",
    "#get training loss\n",
    "plt.plot(history.history['loss'], label='Training Loss')\n",
    "#get validation loss\n",
    "plt.plot(history.history['val_loss'], label='Validation Loss')\n",
    "plt.legend(loc='upper right')\n",
    "\n",
    "plt.subplot(1, 2, 2)\n",
    "plt.ylabel('Accuracy', fontsize=16)\n",
    "plt.plot(history.history['accuracy'], label='Training Accuracy')\n",
    "plt.plot(history.history['val_accuracy'], label='Validation Accuracy')\n",
    "plt.legend(loc='lower right')\n",
    "plt.show()"
   ]
  },
  {
   "cell_type": "code",
   "execution_count": 18,
   "id": "76b5d134",
   "metadata": {
    "execution": {
     "iopub.execute_input": "2024-01-23T18:07:32.929825Z",
     "iopub.status.busy": "2024-01-23T18:07:32.929324Z",
     "iopub.status.idle": "2024-01-23T18:07:33.488507Z",
     "shell.execute_reply": "2024-01-23T18:07:33.487188Z"
    },
    "papermill": {
     "duration": 1.198506,
     "end_time": "2024-01-23T18:07:33.491639",
     "exception": false,
     "start_time": "2024-01-23T18:07:32.293133",
     "status": "completed"
    },
    "tags": []
   },
   "outputs": [
    {
     "name": "stdout",
     "output_type": "stream",
     "text": [
      "1/1 [==============================] - 0s 430ms/step\n"
     ]
    }
   ],
   "source": [
    "# Get one random images and predict it\n",
    "#Generate a batch of images\n",
    "test_img, test_lbl = validation_generator.__next__()\n",
    "#prediction thist test images\n",
    "predictions=model.predict(test_img)"
   ]
  },
  {
   "cell_type": "code",
   "execution_count": 19,
   "id": "5a2853a8",
   "metadata": {
    "execution": {
     "iopub.execute_input": "2024-01-23T18:07:34.891983Z",
     "iopub.status.busy": "2024-01-23T18:07:34.891511Z",
     "iopub.status.idle": "2024-01-23T18:07:34.899606Z",
     "shell.execute_reply": "2024-01-23T18:07:34.897493Z"
    },
    "papermill": {
     "duration": 0.784334,
     "end_time": "2024-01-23T18:07:34.903332",
     "exception": false,
     "start_time": "2024-01-23T18:07:34.118998",
     "status": "completed"
    },
    "tags": []
   },
   "outputs": [],
   "source": [
    "# Using np.argmax and convert predictions\n",
    "predictions = np.argmax(predictions, axis=1)\n",
    "test_labels = np.argmax(test_lbl, axis=1)"
   ]
  },
  {
   "cell_type": "code",
   "execution_count": 20,
   "id": "a6cf7f77",
   "metadata": {
    "execution": {
     "iopub.execute_input": "2024-01-23T18:07:36.166674Z",
     "iopub.status.busy": "2024-01-23T18:07:36.165914Z",
     "iopub.status.idle": "2024-01-23T18:07:37.225177Z",
     "shell.execute_reply": "2024-01-23T18:07:37.223566Z"
    },
    "papermill": {
     "duration": 1.684602,
     "end_time": "2024-01-23T18:07:37.228840",
     "exception": false,
     "start_time": "2024-01-23T18:07:35.544238",
     "status": "completed"
    },
    "tags": []
   },
   "outputs": [
    {
     "name": "stdout",
     "output_type": "stream",
     "text": [
      "Accuracy =  0.5625\n"
     ]
    }
   ],
   "source": [
    "from sklearn import metrics\n",
    "print (\"Accuracy = \", metrics.accuracy_score(test_labels, predictions))"
   ]
  },
  {
   "cell_type": "code",
   "execution_count": 21,
   "id": "36f5bd62",
   "metadata": {
    "execution": {
     "iopub.execute_input": "2024-01-23T18:07:38.589744Z",
     "iopub.status.busy": "2024-01-23T18:07:38.588778Z",
     "iopub.status.idle": "2024-01-23T18:07:38.843441Z",
     "shell.execute_reply": "2024-01-23T18:07:38.842248Z"
    },
    "papermill": {
     "duration": 0.99979,
     "end_time": "2024-01-23T18:07:38.846116",
     "exception": false,
     "start_time": "2024-01-23T18:07:37.846326",
     "status": "completed"
    },
    "tags": []
   },
   "outputs": [
    {
     "data": {
      "image/png": "[encoded data removed]",
      "text/plain": [
       "<Figure size 640x480 with 1 Axes>"
      ]
     },
     "metadata": {},
     "output_type": "display_data"
    }
   ],
   "source": [
    "class_labels=['angry','disgust', 'fear', 'happy','neutral','sad','surprise']\n",
    "\n",
    "#Check results on a few select images\n",
    "n=random.randint(0, test_img.shape[0] - 1)\n",
    "image = test_img[n]\n",
    "orig_labl = class_labels[test_labels[n]]\n",
    "pred_labl = class_labels[predictions[n]]\n",
    "plt.imshow(image[:,:,0], cmap='gray')\n",
    "plt.title(\"Original label is:\"+orig_labl+\" Predicted is: \"+ pred_labl)\n",
    "plt.show()"
   ]
  },
  {
   "cell_type": "code",
   "execution_count": null,
   "id": "c65a6f0b",
   "metadata": {
    "papermill": {
     "duration": 0.613535,
     "end_time": "2024-01-23T18:07:40.066991",
     "exception": false,
     "start_time": "2024-01-23T18:07:39.453456",
     "status": "completed"
    },
    "tags": []
   },
   "outputs": [],
   "source": []
  }
 ],
 "metadata": {
  "kaggle": {
   "accelerator": "none",
   "dataSources": [
    {
     "datasetId": 99505,
     "sourceId": 234911,
     "sourceType": "datasetVersion"
    }
   ],
   "dockerImageVersionId": 30635,
   "isGpuEnabled": false,
   "isInternetEnabled": true,
   "language": "python",
   "sourceType": "notebook"
  },
  "kernelspec": {
   "display_name": "Python 3",
   "language": "python",
   "name": "python3"
  },
  "language_info": {
   "codemirror_mode": {
    "name": "ipython",
    "version": 3
   },
   "file_extension": ".py",
   "mimetype": "text/x-python",
   "name": "python",
   "nbconvert_exporter": "python",
   "pygments_lexer": "ipython3",
   "version": "3.10.12"
  },
  "papermill": {
   "default_parameters": {},
   "duration": 6902.277579,
   "end_time": "2024-01-23T18:07:43.797983",
   "environment_variables": {},
   "exception": null,
   "input_path": "__notebook__.ipynb",
   "output_path": "__notebook__.ipynb",
   "parameters": {},
   "start_time": "2024-01-23T16:12:41.520404",
   "version": "2.4.0"
  }
 },
 "nbformat": 4,
 "nbformat_minor": 5
}
